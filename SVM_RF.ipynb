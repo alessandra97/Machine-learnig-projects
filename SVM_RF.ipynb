{
 "cells": [
  {
   "cell_type": "markdown",
   "metadata": {},
   "source": [
    "# Support vector machine & Random Forest"
   ]
  },
  {
   "cell_type": "markdown",
   "metadata": {},
   "source": [
    "This notebook is divided into 3 main parts:\n",
    "1. Data overview & preprocessing\n",
    "2. Models and choice of parameters: Support-Vector Machine (implemented by sklearn.svm.LinearSVC) and Random Forest (implemented by sklearn.ensemble.ExtraTreesClassifier). \n",
    "3. Conclusions"
   ]
  },
  {
   "cell_type": "code",
   "execution_count": 1,
   "metadata": {
    "collapsed": true
   },
   "outputs": [],
   "source": [
    "import pandas as pd\n",
    "import numpy as np\n",
    "import seaborn as sns \n",
    "import matplotlib.pyplot as plt\n",
    "from sklearn.decomposition import PCA\n",
    "from sklearn.ensemble import ExtraTreesClassifier\n",
    "from sklearn.svm import LinearSVC\n",
    "import random as rm\n",
    "from sklearn.model_selection import GridSearchCV, RandomizedSearchCV\n",
    "from sklearn.metrics import roc_auc_score\n",
    "from scipy.stats import norm, skew, randint\n",
    "from sklearn.model_selection import cross_val_score, KFold,cross_validate\n",
    "from sklearn.preprocessing import StandardScaler\n",
    "from sklearn.metrics import accuracy_score ,confusion_matrix, classification_report\n",
    "\n",
    "%matplotlib inline"
   ]
  },
  {
   "cell_type": "markdown",
   "metadata": {},
   "source": [
    "### Load the dataset"
   ]
  },
  {
   "cell_type": "code",
   "execution_count": 2,
   "metadata": {},
   "outputs": [],
   "source": [
    "df = pd.read_csv('mldata_0301522704.csv')\n",
    "pd.set_option('display.max_columns', None)"
   ]
  },
  {
   "cell_type": "code",
   "execution_count": 3,
   "metadata": {},
   "outputs": [
    {
     "name": "stdout",
     "output_type": "stream",
     "text": [
      "<class 'pandas.core.frame.DataFrame'>\n",
      "RangeIndex: 1300 entries, 0 to 1299\n",
      "Data columns (total 22 columns):\n",
      "Unnamed: 0        1300 non-null int64\n",
      "label             1300 non-null int64\n",
      "num.feature 1     1300 non-null float64\n",
      "num.feature 2     1300 non-null float64\n",
      "num.feature 3     1300 non-null float64\n",
      "num.feature 4     1300 non-null float64\n",
      "num.feature 5     1300 non-null float64\n",
      "num.feature 6     1300 non-null float64\n",
      "num.feature 7     1300 non-null float64\n",
      "num.feature 8     1300 non-null float64\n",
      "num.feature 9     1300 non-null float64\n",
      "num.feature 10    1300 non-null float64\n",
      "num.feature 11    1300 non-null float64\n",
      "num.feature 12    1300 non-null float64\n",
      "num.feature 13    1300 non-null float64\n",
      "num.feature 14    1300 non-null float64\n",
      "num.feature 15    1300 non-null float64\n",
      "num.feature 16    1300 non-null float64\n",
      "num.feature 17    1300 non-null float64\n",
      "num.feature 18    1300 non-null float64\n",
      "num.feature 19    1300 non-null float64\n",
      "num.feature 20    1300 non-null float64\n",
      "dtypes: float64(20), int64(2)\n",
      "memory usage: 223.5 KB\n"
     ]
    }
   ],
   "source": [
    "df.info()"
   ]
  },
  {
   "cell_type": "code",
   "execution_count": 4,
   "metadata": {
    "collapsed": true
   },
   "outputs": [],
   "source": [
    "all_train = 1300"
   ]
  },
  {
   "cell_type": "code",
   "execution_count": 5,
   "metadata": {},
   "outputs": [],
   "source": [
    "columns = df.drop(['label'],axis = 1).values\n",
    "y = df.label.values"
   ]
  },
  {
   "cell_type": "code",
   "execution_count": null,
   "metadata": {
    "collapsed": true
   },
   "outputs": [],
   "source": []
  },
  {
   "cell_type": "markdown",
   "metadata": {},
   "source": [
    "I set aside 30% of the data, the validation set, which is disjoint from the training set and not allowed to be used when fitting the model. So I define a class for this purpose, which is similar to MnistTrain seen in class.  \n",
    "\n",
    "I also do a PCA with 90%.  \n",
    "I am also going to add a \"normalization option\" to the class:  \n",
    "Random Forest is invariant to monotonic transformations of individual features, so per feature scalings will not change anything for the Random Forest. SVM will probably do better if features have roughly the same magnitude (which is already true, features have means around 0 and similar stardard deviation) but I will normalize them anyway just to be sure everything works fine."
   ]
  },
  {
   "cell_type": "code",
   "execution_count": 6,
   "metadata": {
    "collapsed": true
   },
   "outputs": [],
   "source": [
    "class valid_data:\n",
    "    def __init__(self, num_train = 910, num_valid = 390, seed = 30227, n_components = 0.9, norm = False, columns = columns):\n",
    "        np.random.seed(seed)\n",
    "        perm = np.random.permutation(all_train)\n",
    "        dopca = n_components is None or n_components > 0\n",
    "        \n",
    "        i_train = perm[:num_train]\n",
    "        i_valid = perm[num_train:num_train+num_valid]\n",
    "\n",
    "        train_data = columns[i_train,:]\n",
    "        train_target = y[i_train]\n",
    "        valid_data = columns[i_valid,:]\n",
    "        valid_target = y[i_valid]\n",
    "        \n",
    "        if dopca:\n",
    "            pca = PCA(n_components = n_components)\n",
    "            pca.fit(train_data)\n",
    "            X = pca.transform(train_data)\n",
    "            vX = pca.transform(valid_data)\n",
    "        else:\n",
    "            X, vX = train_data, valid_data\n",
    "            \n",
    "        if norm == True: \n",
    "            scaler = StandardScaler()\n",
    "            scaler.fit(train_data)\n",
    "            X = scaler.transform(train_data)\n",
    "            vX = scaler.transform(valid_data)\n",
    "        else:\n",
    "            X, vX = train_data, valid_data\n",
    "\n",
    "        nc = X.shape[1]\n",
    "#        print('nc=%i' % X.shape[1])\n",
    "        \n",
    "        self.perm = perm\n",
    "        self.X, self.y = X, train_target\n",
    "        self.vX, self.vy = vX, valid_target\n",
    "        self.pca = pca if dopca else None\n",
    "    \n",
    "    def train(self):\n",
    "        return self.X, self.y\n",
    "    \n",
    "    def valid(self):\n",
    "        return self.vX, self.vy"
   ]
  },
  {
   "cell_type": "markdown",
   "metadata": {},
   "source": [
    "# Data overview"
   ]
  },
  {
   "cell_type": "code",
   "execution_count": 7,
   "metadata": {},
   "outputs": [
    {
     "data": {
      "text/html": [
       "<div>\n",
       "<style>\n",
       "    .dataframe thead tr:only-child th {\n",
       "        text-align: right;\n",
       "    }\n",
       "\n",
       "    .dataframe thead th {\n",
       "        text-align: left;\n",
       "    }\n",
       "\n",
       "    .dataframe tbody tr th {\n",
       "        vertical-align: top;\n",
       "    }\n",
       "</style>\n",
       "<table border=\"1\" class=\"dataframe\">\n",
       "  <thead>\n",
       "    <tr style=\"text-align: right;\">\n",
       "      <th></th>\n",
       "      <th>Unnamed: 0</th>\n",
       "      <th>label</th>\n",
       "      <th>num.feature 1</th>\n",
       "      <th>num.feature 2</th>\n",
       "      <th>num.feature 3</th>\n",
       "      <th>num.feature 4</th>\n",
       "      <th>num.feature 5</th>\n",
       "      <th>num.feature 6</th>\n",
       "      <th>num.feature 7</th>\n",
       "      <th>num.feature 8</th>\n",
       "      <th>num.feature 9</th>\n",
       "      <th>num.feature 10</th>\n",
       "      <th>num.feature 11</th>\n",
       "      <th>num.feature 12</th>\n",
       "      <th>num.feature 13</th>\n",
       "      <th>num.feature 14</th>\n",
       "      <th>num.feature 15</th>\n",
       "      <th>num.feature 16</th>\n",
       "      <th>num.feature 17</th>\n",
       "      <th>num.feature 18</th>\n",
       "      <th>num.feature 19</th>\n",
       "      <th>num.feature 20</th>\n",
       "    </tr>\n",
       "  </thead>\n",
       "  <tbody>\n",
       "    <tr>\n",
       "      <th>count</th>\n",
       "      <td>1300.000000</td>\n",
       "      <td>1300.000000</td>\n",
       "      <td>1300.000000</td>\n",
       "      <td>1300.000000</td>\n",
       "      <td>1300.000000</td>\n",
       "      <td>1300.000000</td>\n",
       "      <td>1300.000000</td>\n",
       "      <td>1300.000000</td>\n",
       "      <td>1300.000000</td>\n",
       "      <td>1300.000000</td>\n",
       "      <td>1300.000000</td>\n",
       "      <td>1300.000000</td>\n",
       "      <td>1300.000000</td>\n",
       "      <td>1300.000000</td>\n",
       "      <td>1300.000000</td>\n",
       "      <td>1300.000000</td>\n",
       "      <td>1300.000000</td>\n",
       "      <td>1300.000000</td>\n",
       "      <td>1300.000000</td>\n",
       "      <td>1300.000000</td>\n",
       "      <td>1300.000000</td>\n",
       "      <td>1300.000000</td>\n",
       "    </tr>\n",
       "    <tr>\n",
       "      <th>mean</th>\n",
       "      <td>649.500000</td>\n",
       "      <td>1.972308</td>\n",
       "      <td>0.117639</td>\n",
       "      <td>-0.101672</td>\n",
       "      <td>-0.054755</td>\n",
       "      <td>-0.166105</td>\n",
       "      <td>0.072461</td>\n",
       "      <td>-0.034209</td>\n",
       "      <td>-0.250256</td>\n",
       "      <td>-0.038126</td>\n",
       "      <td>0.168828</td>\n",
       "      <td>0.128200</td>\n",
       "      <td>-0.091922</td>\n",
       "      <td>0.083364</td>\n",
       "      <td>0.081069</td>\n",
       "      <td>0.220551</td>\n",
       "      <td>-0.069147</td>\n",
       "      <td>-0.009406</td>\n",
       "      <td>0.056756</td>\n",
       "      <td>-0.050262</td>\n",
       "      <td>-0.011994</td>\n",
       "      <td>-0.117237</td>\n",
       "    </tr>\n",
       "    <tr>\n",
       "      <th>std</th>\n",
       "      <td>375.421985</td>\n",
       "      <td>1.448368</td>\n",
       "      <td>1.387275</td>\n",
       "      <td>1.626914</td>\n",
       "      <td>1.819147</td>\n",
       "      <td>1.184847</td>\n",
       "      <td>2.089788</td>\n",
       "      <td>1.644535</td>\n",
       "      <td>1.563757</td>\n",
       "      <td>1.089429</td>\n",
       "      <td>1.546943</td>\n",
       "      <td>1.363908</td>\n",
       "      <td>1.400627</td>\n",
       "      <td>1.390795</td>\n",
       "      <td>1.411237</td>\n",
       "      <td>1.228115</td>\n",
       "      <td>1.871668</td>\n",
       "      <td>1.607915</td>\n",
       "      <td>1.423297</td>\n",
       "      <td>1.094152</td>\n",
       "      <td>1.221542</td>\n",
       "      <td>1.507787</td>\n",
       "    </tr>\n",
       "    <tr>\n",
       "      <th>min</th>\n",
       "      <td>0.000000</td>\n",
       "      <td>0.000000</td>\n",
       "      <td>-3.677611</td>\n",
       "      <td>-5.961574</td>\n",
       "      <td>-6.569405</td>\n",
       "      <td>-3.962740</td>\n",
       "      <td>-6.299933</td>\n",
       "      <td>-5.870734</td>\n",
       "      <td>-5.452610</td>\n",
       "      <td>-4.179753</td>\n",
       "      <td>-4.779253</td>\n",
       "      <td>-4.442563</td>\n",
       "      <td>-5.225851</td>\n",
       "      <td>-4.224787</td>\n",
       "      <td>-4.078816</td>\n",
       "      <td>-4.212993</td>\n",
       "      <td>-6.747280</td>\n",
       "      <td>-5.415846</td>\n",
       "      <td>-4.876416</td>\n",
       "      <td>-3.467864</td>\n",
       "      <td>-4.336936</td>\n",
       "      <td>-5.345597</td>\n",
       "    </tr>\n",
       "    <tr>\n",
       "      <th>25%</th>\n",
       "      <td>324.750000</td>\n",
       "      <td>1.000000</td>\n",
       "      <td>-0.855651</td>\n",
       "      <td>-1.112877</td>\n",
       "      <td>-1.283179</td>\n",
       "      <td>-0.972195</td>\n",
       "      <td>-1.243690</td>\n",
       "      <td>-1.110134</td>\n",
       "      <td>-1.318638</td>\n",
       "      <td>-0.780279</td>\n",
       "      <td>-0.853953</td>\n",
       "      <td>-0.813182</td>\n",
       "      <td>-1.018493</td>\n",
       "      <td>-0.811081</td>\n",
       "      <td>-0.910287</td>\n",
       "      <td>-0.570969</td>\n",
       "      <td>-1.319130</td>\n",
       "      <td>-1.087796</td>\n",
       "      <td>-0.902832</td>\n",
       "      <td>-0.804935</td>\n",
       "      <td>-0.887561</td>\n",
       "      <td>-1.084091</td>\n",
       "    </tr>\n",
       "    <tr>\n",
       "      <th>50%</th>\n",
       "      <td>649.500000</td>\n",
       "      <td>2.000000</td>\n",
       "      <td>0.093485</td>\n",
       "      <td>-0.186854</td>\n",
       "      <td>0.013099</td>\n",
       "      <td>-0.185657</td>\n",
       "      <td>0.104028</td>\n",
       "      <td>0.004837</td>\n",
       "      <td>-0.257762</td>\n",
       "      <td>-0.041549</td>\n",
       "      <td>0.144209</td>\n",
       "      <td>0.157351</td>\n",
       "      <td>-0.162941</td>\n",
       "      <td>0.044468</td>\n",
       "      <td>0.077447</td>\n",
       "      <td>0.213775</td>\n",
       "      <td>-0.129995</td>\n",
       "      <td>-0.044510</td>\n",
       "      <td>0.020383</td>\n",
       "      <td>-0.049158</td>\n",
       "      <td>0.001555</td>\n",
       "      <td>-0.118627</td>\n",
       "    </tr>\n",
       "    <tr>\n",
       "      <th>75%</th>\n",
       "      <td>974.250000</td>\n",
       "      <td>3.000000</td>\n",
       "      <td>1.057629</td>\n",
       "      <td>0.877016</td>\n",
       "      <td>1.170985</td>\n",
       "      <td>0.616176</td>\n",
       "      <td>1.472452</td>\n",
       "      <td>1.137264</td>\n",
       "      <td>0.861766</td>\n",
       "      <td>0.716434</td>\n",
       "      <td>1.164693</td>\n",
       "      <td>1.019633</td>\n",
       "      <td>0.737137</td>\n",
       "      <td>0.979501</td>\n",
       "      <td>1.052053</td>\n",
       "      <td>1.002043</td>\n",
       "      <td>1.095532</td>\n",
       "      <td>0.957833</td>\n",
       "      <td>0.989495</td>\n",
       "      <td>0.702683</td>\n",
       "      <td>0.834988</td>\n",
       "      <td>0.905893</td>\n",
       "    </tr>\n",
       "    <tr>\n",
       "      <th>max</th>\n",
       "      <td>1299.000000</td>\n",
       "      <td>4.000000</td>\n",
       "      <td>4.522937</td>\n",
       "      <td>5.500374</td>\n",
       "      <td>6.396728</td>\n",
       "      <td>4.444597</td>\n",
       "      <td>7.114473</td>\n",
       "      <td>4.612252</td>\n",
       "      <td>4.995067</td>\n",
       "      <td>3.556556</td>\n",
       "      <td>6.492979</td>\n",
       "      <td>5.005825</td>\n",
       "      <td>5.399911</td>\n",
       "      <td>4.598449</td>\n",
       "      <td>4.797983</td>\n",
       "      <td>4.134452</td>\n",
       "      <td>6.750309</td>\n",
       "      <td>5.862843</td>\n",
       "      <td>5.727670</td>\n",
       "      <td>3.635579</td>\n",
       "      <td>4.075069</td>\n",
       "      <td>4.020739</td>\n",
       "    </tr>\n",
       "  </tbody>\n",
       "</table>\n",
       "</div>"
      ],
      "text/plain": [
       "        Unnamed: 0        label  num.feature 1  num.feature 2  num.feature 3  \\\n",
       "count  1300.000000  1300.000000    1300.000000    1300.000000    1300.000000   \n",
       "mean    649.500000     1.972308       0.117639      -0.101672      -0.054755   \n",
       "std     375.421985     1.448368       1.387275       1.626914       1.819147   \n",
       "min       0.000000     0.000000      -3.677611      -5.961574      -6.569405   \n",
       "25%     324.750000     1.000000      -0.855651      -1.112877      -1.283179   \n",
       "50%     649.500000     2.000000       0.093485      -0.186854       0.013099   \n",
       "75%     974.250000     3.000000       1.057629       0.877016       1.170985   \n",
       "max    1299.000000     4.000000       4.522937       5.500374       6.396728   \n",
       "\n",
       "       num.feature 4  num.feature 5  num.feature 6  num.feature 7  \\\n",
       "count    1300.000000    1300.000000    1300.000000    1300.000000   \n",
       "mean       -0.166105       0.072461      -0.034209      -0.250256   \n",
       "std         1.184847       2.089788       1.644535       1.563757   \n",
       "min        -3.962740      -6.299933      -5.870734      -5.452610   \n",
       "25%        -0.972195      -1.243690      -1.110134      -1.318638   \n",
       "50%        -0.185657       0.104028       0.004837      -0.257762   \n",
       "75%         0.616176       1.472452       1.137264       0.861766   \n",
       "max         4.444597       7.114473       4.612252       4.995067   \n",
       "\n",
       "       num.feature 8  num.feature 9  num.feature 10  num.feature 11  \\\n",
       "count    1300.000000    1300.000000     1300.000000     1300.000000   \n",
       "mean       -0.038126       0.168828        0.128200       -0.091922   \n",
       "std         1.089429       1.546943        1.363908        1.400627   \n",
       "min        -4.179753      -4.779253       -4.442563       -5.225851   \n",
       "25%        -0.780279      -0.853953       -0.813182       -1.018493   \n",
       "50%        -0.041549       0.144209        0.157351       -0.162941   \n",
       "75%         0.716434       1.164693        1.019633        0.737137   \n",
       "max         3.556556       6.492979        5.005825        5.399911   \n",
       "\n",
       "       num.feature 12  num.feature 13  num.feature 14  num.feature 15  \\\n",
       "count     1300.000000     1300.000000     1300.000000     1300.000000   \n",
       "mean         0.083364        0.081069        0.220551       -0.069147   \n",
       "std          1.390795        1.411237        1.228115        1.871668   \n",
       "min         -4.224787       -4.078816       -4.212993       -6.747280   \n",
       "25%         -0.811081       -0.910287       -0.570969       -1.319130   \n",
       "50%          0.044468        0.077447        0.213775       -0.129995   \n",
       "75%          0.979501        1.052053        1.002043        1.095532   \n",
       "max          4.598449        4.797983        4.134452        6.750309   \n",
       "\n",
       "       num.feature 16  num.feature 17  num.feature 18  num.feature 19  \\\n",
       "count     1300.000000     1300.000000     1300.000000     1300.000000   \n",
       "mean        -0.009406        0.056756       -0.050262       -0.011994   \n",
       "std          1.607915        1.423297        1.094152        1.221542   \n",
       "min         -5.415846       -4.876416       -3.467864       -4.336936   \n",
       "25%         -1.087796       -0.902832       -0.804935       -0.887561   \n",
       "50%         -0.044510        0.020383       -0.049158        0.001555   \n",
       "75%          0.957833        0.989495        0.702683        0.834988   \n",
       "max          5.862843        5.727670        3.635579        4.075069   \n",
       "\n",
       "       num.feature 20  \n",
       "count     1300.000000  \n",
       "mean        -0.117237  \n",
       "std          1.507787  \n",
       "min         -5.345597  \n",
       "25%         -1.084091  \n",
       "50%         -0.118627  \n",
       "75%          0.905893  \n",
       "max          4.020739  "
      ]
     },
     "execution_count": 7,
     "metadata": {},
     "output_type": "execute_result"
    }
   ],
   "source": [
    "df.describe()"
   ]
  },
  {
   "cell_type": "code",
   "execution_count": 8,
   "metadata": {},
   "outputs": [
    {
     "name": "stdout",
     "output_type": "stream",
     "text": [
      "<class 'pandas.core.frame.DataFrame'>\n",
      "RangeIndex: 1300 entries, 0 to 1299\n",
      "Data columns (total 22 columns):\n",
      "Unnamed: 0        1300 non-null int64\n",
      "label             1300 non-null int64\n",
      "num.feature 1     1300 non-null float64\n",
      "num.feature 2     1300 non-null float64\n",
      "num.feature 3     1300 non-null float64\n",
      "num.feature 4     1300 non-null float64\n",
      "num.feature 5     1300 non-null float64\n",
      "num.feature 6     1300 non-null float64\n",
      "num.feature 7     1300 non-null float64\n",
      "num.feature 8     1300 non-null float64\n",
      "num.feature 9     1300 non-null float64\n",
      "num.feature 10    1300 non-null float64\n",
      "num.feature 11    1300 non-null float64\n",
      "num.feature 12    1300 non-null float64\n",
      "num.feature 13    1300 non-null float64\n",
      "num.feature 14    1300 non-null float64\n",
      "num.feature 15    1300 non-null float64\n",
      "num.feature 16    1300 non-null float64\n",
      "num.feature 17    1300 non-null float64\n",
      "num.feature 18    1300 non-null float64\n",
      "num.feature 19    1300 non-null float64\n",
      "num.feature 20    1300 non-null float64\n",
      "dtypes: float64(20), int64(2)\n",
      "memory usage: 223.5 KB\n"
     ]
    }
   ],
   "source": [
    "df.info()"
   ]
  },
  {
   "cell_type": "markdown",
   "metadata": {},
   "source": [
    "The dataset is composed by an Unnamed:0 column which I will delete, one label column containing 5 classes (0,1,2,3,4) and 20 numeric features: all the columns have size 1300. There are no categorical or missing data."
   ]
  },
  {
   "cell_type": "code",
   "execution_count": 9,
   "metadata": {
    "collapsed": true
   },
   "outputs": [],
   "source": [
    "del df['Unnamed: 0']"
   ]
  },
  {
   "cell_type": "markdown",
   "metadata": {},
   "source": [
    "Now I plot the histograms to show what the data's distributions looks like, I observe than the are also normally distributed, more or less."
   ]
  },
  {
   "cell_type": "code",
   "execution_count": 10,
   "metadata": {},
   "outputs": [
    {
     "data": {
      "image/png": "[encoded data removed]",
      "text/plain": [
       "<matplotlib.figure.Figure at 0x2df96457240>"
      ]
     },
     "metadata": {},
     "output_type": "display_data"
    }
   ],
   "source": [
    "fig, axes = plt.subplots(nrows = 7, ncols = 3, figsize = (15,15))\n",
    "axes = axes.flatten()\n",
    "\n",
    "cols = df.columns\n",
    "for i in range(21):\n",
    "    axes[i].hist(df[cols[i]], bins = 50, facecolor = 'r', alpha = 0.5)\n",
    "    axes[i].set_title(cols[i])\n",
    "    plt.setp(axes[i].get_xticklabels(), visible = False) \n",
    "    plt.setp(axes[i].get_yticklabels(), visible = False)"
   ]
  },
  {
   "cell_type": "code",
   "execution_count": 11,
   "metadata": {},
   "outputs": [
    {
     "data": {
      "text/plain": [
       "[Text(0,0.5,'label'),\n",
       " Text(0,1.5,'num.feature 1'),\n",
       " Text(0,2.5,'num.feature 2'),\n",
       " Text(0,3.5,'num.feature 3'),\n",
       " Text(0,4.5,'num.feature 4'),\n",
       " Text(0,5.5,'num.feature 5'),\n",
       " Text(0,6.5,'num.feature 6'),\n",
       " Text(0,7.5,'num.feature 7'),\n",
       " Text(0,8.5,'num.feature 8'),\n",
       " Text(0,9.5,'num.feature 9'),\n",
       " Text(0,10.5,'num.feature 10'),\n",
       " Text(0,11.5,'num.feature 11'),\n",
       " Text(0,12.5,'num.feature 12'),\n",
       " Text(0,13.5,'num.feature 13'),\n",
       " Text(0,14.5,'num.feature 14'),\n",
       " Text(0,15.5,'num.feature 15'),\n",
       " Text(0,16.5,'num.feature 16'),\n",
       " Text(0,17.5,'num.feature 17'),\n",
       " Text(0,18.5,'num.feature 18'),\n",
       " Text(0,19.5,'num.feature 19'),\n",
       " Text(0,20.5,'num.feature 20')]"
      ]
     },
     "execution_count": 11,
     "metadata": {},
     "output_type": "execute_result"
    },
    {
     "data": {
      "image/png": "[encoded data removed]",
      "text/plain": [
       "<matplotlib.figure.Figure at 0x2df9643c5f8>"
      ]
     },
     "metadata": {},
     "output_type": "display_data"
    }
   ],
   "source": [
    "corr=df.corr()\n",
    "#Check out the Correlation Headmap\n",
    "plt.figure(figsize=(15,12))\n",
    "p = sns.heatmap(corr, cmap=\"RdBu_r\")\n",
    "p.set_title('Correlation Heatmap', fontsize=20)\n",
    "p.set_xticklabels(p.get_xticklabels(),fontsize=20)\n",
    "p.set_yticklabels(p.get_yticklabels(),fontsize=20)"
   ]
  },
  {
   "cell_type": "markdown",
   "metadata": {},
   "source": [
    "It is clear than feature 1 and 7 are very much negatively correlated, while 3 and 5 are positive correlated.\n",
    "\n",
    "Correlated features in general don't improve models, and they might be a problem with random forest, should I delete them?"
   ]
  },
  {
   "cell_type": "code",
   "execution_count": 12,
   "metadata": {},
   "outputs": [
    {
     "data": {
      "text/plain": [
       "0.65745964631664555"
      ]
     },
     "execution_count": 12,
     "metadata": {},
     "output_type": "execute_result"
    }
   ],
   "source": [
    "df['num.feature 3'].corr(df['num.feature 5'])"
   ]
  },
  {
   "cell_type": "code",
   "execution_count": 13,
   "metadata": {
    "collapsed": true
   },
   "outputs": [],
   "source": [
    "columns1 = df.drop(['label','num.feature 3'],axis = 1).values"
   ]
  },
  {
   "cell_type": "markdown",
   "metadata": {},
   "source": [
    "It's pretty high, I'll remove it before random forest"
   ]
  },
  {
   "cell_type": "code",
   "execution_count": 14,
   "metadata": {},
   "outputs": [
    {
     "data": {
      "image/png": "[encoded data removed]",
      "text/plain": [
       "<matplotlib.figure.Figure at 0x2df9780a9e8>"
      ]
     },
     "metadata": {},
     "output_type": "display_data"
    }
   ],
   "source": [
    "sns.set()\n",
    "pca = PCA().fit(columns)\n",
    "plt.plot(np.cumsum(pca.explained_variance_ratio_),\"r\")\n",
    "plt.xlabel('number of components')\n",
    "plt.ylabel('cumulative explained variance');"
   ]
  },
  {
   "cell_type": "markdown",
   "metadata": {},
   "source": [
    "8 components explain almost all cumulative explained variance"
   ]
  },
  {
   "cell_type": "markdown",
   "metadata": {},
   "source": [
    "Check the skewness of Numeric Features: this is why we normalize a the features "
   ]
  },
  {
   "cell_type": "code",
   "execution_count": 15,
   "metadata": {},
   "outputs": [
    {
     "data": {
      "text/html": [
       "<div>\n",
       "<style>\n",
       "    .dataframe thead tr:only-child th {\n",
       "        text-align: right;\n",
       "    }\n",
       "\n",
       "    .dataframe thead th {\n",
       "        text-align: left;\n",
       "    }\n",
       "\n",
       "    .dataframe tbody tr th {\n",
       "        vertical-align: top;\n",
       "    }\n",
       "</style>\n",
       "<table border=\"1\" class=\"dataframe\">\n",
       "  <thead>\n",
       "    <tr style=\"text-align: right;\">\n",
       "      <th></th>\n",
       "      <th>Skew</th>\n",
       "    </tr>\n",
       "  </thead>\n",
       "  <tbody>\n",
       "    <tr>\n",
       "      <th>num.feature 16</th>\n",
       "      <td>0.272232</td>\n",
       "    </tr>\n",
       "    <tr>\n",
       "      <th>num.feature 11</th>\n",
       "      <td>0.200310</td>\n",
       "    </tr>\n",
       "    <tr>\n",
       "      <th>num.feature 1</th>\n",
       "      <td>0.164111</td>\n",
       "    </tr>\n",
       "    <tr>\n",
       "      <th>num.feature 17</th>\n",
       "      <td>0.131857</td>\n",
       "    </tr>\n",
       "    <tr>\n",
       "      <th>num.feature 13</th>\n",
       "      <td>0.120673</td>\n",
       "    </tr>\n",
       "    <tr>\n",
       "      <th>num.feature 15</th>\n",
       "      <td>0.115903</td>\n",
       "    </tr>\n",
       "    <tr>\n",
       "      <th>num.feature 9</th>\n",
       "      <td>0.109466</td>\n",
       "    </tr>\n",
       "    <tr>\n",
       "      <th>num.feature 4</th>\n",
       "      <td>0.085711</td>\n",
       "    </tr>\n",
       "    <tr>\n",
       "      <th>num.feature 14</th>\n",
       "      <td>0.052897</td>\n",
       "    </tr>\n",
       "    <tr>\n",
       "      <th>num.feature 10</th>\n",
       "      <td>0.051408</td>\n",
       "    </tr>\n",
       "    <tr>\n",
       "      <th>num.feature 18</th>\n",
       "      <td>0.042754</td>\n",
       "    </tr>\n",
       "    <tr>\n",
       "      <th>num.feature 12</th>\n",
       "      <td>0.037001</td>\n",
       "    </tr>\n",
       "    <tr>\n",
       "      <th>num.feature 5</th>\n",
       "      <td>0.007120</td>\n",
       "    </tr>\n",
       "    <tr>\n",
       "      <th>num.feature 2</th>\n",
       "      <td>0.006013</td>\n",
       "    </tr>\n",
       "    <tr>\n",
       "      <th>num.feature 19</th>\n",
       "      <td>-0.000865</td>\n",
       "    </tr>\n",
       "    <tr>\n",
       "      <th>num.feature 8</th>\n",
       "      <td>-0.011567</td>\n",
       "    </tr>\n",
       "    <tr>\n",
       "      <th>num.feature 7</th>\n",
       "      <td>-0.064656</td>\n",
       "    </tr>\n",
       "    <tr>\n",
       "      <th>num.feature 3</th>\n",
       "      <td>-0.122830</td>\n",
       "    </tr>\n",
       "    <tr>\n",
       "      <th>num.feature 6</th>\n",
       "      <td>-0.122990</td>\n",
       "    </tr>\n",
       "    <tr>\n",
       "      <th>num.feature 20</th>\n",
       "      <td>-0.149006</td>\n",
       "    </tr>\n",
       "  </tbody>\n",
       "</table>\n",
       "</div>"
      ],
      "text/plain": [
       "                    Skew\n",
       "num.feature 16  0.272232\n",
       "num.feature 11  0.200310\n",
       "num.feature 1   0.164111\n",
       "num.feature 17  0.131857\n",
       "num.feature 13  0.120673\n",
       "num.feature 15  0.115903\n",
       "num.feature 9   0.109466\n",
       "num.feature 4   0.085711\n",
       "num.feature 14  0.052897\n",
       "num.feature 10  0.051408\n",
       "num.feature 18  0.042754\n",
       "num.feature 12  0.037001\n",
       "num.feature 5   0.007120\n",
       "num.feature 2   0.006013\n",
       "num.feature 19 -0.000865\n",
       "num.feature 8  -0.011567\n",
       "num.feature 7  -0.064656\n",
       "num.feature 3  -0.122830\n",
       "num.feature 6  -0.122990\n",
       "num.feature 20 -0.149006"
      ]
     },
     "execution_count": 15,
     "metadata": {},
     "output_type": "execute_result"
    }
   ],
   "source": [
    "df_new=df.drop(['label'],axis=1)\n",
    "skewed_feat = df_new.apply(lambda x: skew(x.dropna())).sort_values(ascending=False)\n",
    "pd.DataFrame({'Skew' :skewed_feat})"
   ]
  },
  {
   "cell_type": "markdown",
   "metadata": {},
   "source": [
    "## Random forest"
   ]
  },
  {
   "cell_type": "code",
   "execution_count": 25,
   "metadata": {},
   "outputs": [
    {
     "name": "stdout",
     "output_type": "stream",
     "text": [
      "Final training score = 0.430303, validation score = 0.430303\n",
      "Feature ranking:\n",
      "1. feature 10 (0.056384)\n",
      "2. feature 13 (0.056268)\n",
      "3. feature 14 (0.054031)\n",
      "4. feature 12 (0.053718)\n",
      "5. feature 3 (0.052246)\n",
      "6. feature 16 (0.051229)\n",
      "7. feature 17 (0.049365)\n",
      "8. feature 20 (0.049005)\n",
      "9. feature 18 (0.047807)\n",
      "10. feature 6 (0.047700)\n",
      "11. feature 7 (0.047139)\n",
      "12. feature 2 (0.047097)\n",
      "13. feature 9 (0.046214)\n",
      "14. feature 21 (0.044759)\n",
      "15. feature 11 (0.044520)\n",
      "16. feature 4 (0.044320)\n",
      "17. feature 15 (0.043896)\n",
      "18. feature 19 (0.042777)\n",
      "19. feature 8 (0.042374)\n",
      "20. feature 5 (0.039580)\n",
      "21. feature 1 (0.039574)\n"
     ]
    },
    {
     "data": {
      "text/plain": [
       "(-1, 21)"
      ]
     },
     "execution_count": 25,
     "metadata": {},
     "output_type": "execute_result"
    },
    {
     "data": {
      "image/png": "[encoded data removed]",
      "text/plain": [
       "<matplotlib.figure.Figure at 0x2df978f6e48>"
      ]
     },
     "metadata": {},
     "output_type": "display_data"
    }
   ],
   "source": [
    "data = valid_data(num_train = 770, num_valid = 330, seed = 30227)\n",
    "    \n",
    "clf = ExtraTreesClassifier()\n",
    "clf.fit(*data.train())\n",
    "train_score = clf.score(*data.train())\n",
    "test_score = clf.score(*data.valid())\n",
    "print(\"Final training score = %g, validation score = %g\" % (test_score, test_score))\n",
    "\n",
    "#plot the features importances\n",
    "imp = clf.feature_importances_\n",
    "std = np.std([tree.feature_importances_ for tree in clf.estimators_],axis=0)\n",
    "indices = np.argsort(imp)[::-1]\n",
    "print(\"Feature ranking:\")\n",
    "fe, ta = data.train()\n",
    "for f in range(fe.shape[1]):\n",
    "    print(\"%d. feature %d (%f)\" % (f + 1, indices[f]+1, imp[indices[f]]))\n",
    "        \n",
    "# Plot the feature importances of the forest\n",
    "plt.figure(figsize = (12,6))    \n",
    "plt.title(\"Feature importances\")\n",
    "plt.bar(range(fe.shape[1]), imp[indices], color='r', align=\"center\")\n",
    "plt.xticks(range(fe.shape[1]), indices + 1)\n",
    "plt.xlim([-1, fe.shape[1]])"
   ]
  },
  {
   "cell_type": "markdown",
   "metadata": {},
   "source": [
    "## Parameters tuning\n",
    "I need to choose the best parameters, while making some considerations:\n",
    "- n_estimators, when increased is good at dealing with overfitting;\n",
    "- min_sample_split is also helpful when dealing with overfitting occurred in a small-sample but big-features dataset (can 1300 be considered small sample, and 20 be considered a high number of features?)\n",
    "- max_features is worth exploring for many different values. It may have a large impact on the Random Forest because it controls the maximum number of features each tree considers at each split.\n",
    "- criterion may have a small impact, I will try gini and entropy"
   ]
  },
  {
   "cell_type": "code",
   "execution_count": 17,
   "metadata": {},
   "outputs": [
    {
     "name": "stdout",
     "output_type": "stream",
     "text": [
      "{'n_estimators': 169, 'min_samples_split': 2, 'max_features': 'sqrt', 'criterion': 'entropy'}\n"
     ]
    }
   ],
   "source": [
    "#Perform Randomized Search on ExtraTree\n",
    "clf_Ext = ExtraTreesClassifier()\n",
    "param_dist = {'criterion' :['gini','entropy'],\n",
    "              'n_estimators' : np.arange(5,500,dtype = int),\n",
    "              'min_samples_split' : np.arange(2,50,dtype = int),\n",
    "              'max_features' : ['auto', 'sqrt']}\n",
    "\n",
    "n_iter_search = 35\n",
    "random_search = RandomizedSearchCV(clf_Ext, param_distributions = param_dist)\n",
    "data = valid_data(num_train = 770, num_valid = 330, n_components = 8, columns = columns1)\n",
    "random_search.fit(*data.train())\n",
    "print(random_search.best_params_)"
   ]
  },
  {
   "cell_type": "markdown",
   "metadata": {},
   "source": [
    "So I start with these best parameters:  \n",
    "'n_estimators': 169  \n",
    "'min_samples_split': 2   \n",
    "'max_features': 'sqrt'  \n",
    "'criterion': 'entropy'  \n",
    "\n",
    "Now plot training and test, so that I can decide which parameters are actually best."
   ]
  },
  {
   "cell_type": "code",
   "execution_count": 18,
   "metadata": {},
   "outputs": [
    {
     "data": {
      "image/png": "[encoded data removed]",
      "text/plain": [
       "<matplotlib.figure.Figure at 0x2df97838b38>"
      ]
     },
     "metadata": {},
     "output_type": "display_data"
    },
    {
     "data": {
      "image/png": "[encoded data removed]",
      "text/plain": [
       "<matplotlib.figure.Figure at 0x2df978e6ef0>"
      ]
     },
     "metadata": {},
     "output_type": "display_data"
    }
   ],
   "source": [
    "n_estimators=list(np.arange(10,500,step = 40,dtype = int))\n",
    "min_samples_split = list(np.arange(2,100,step = 8,dtype = int))\n",
    "test_score1 = []\n",
    "train_score1 = []\n",
    "test_score2 = []\n",
    "train_score2 = []\n",
    "\n",
    "for i in n_estimators:\n",
    "    mod1 = ExtraTreesClassifier(n_estimators=i,min_samples_split=2,max_features = 'sqrt',criterion = \"entropy\")\n",
    "    data = valid_data(num_train = 770, num_valid = 330, n_components = 8,columns = columns1)\n",
    "    mod1.fit(*data.train())\n",
    "    train_score1.append(mod1.score(*data.train()))\n",
    "    test_score1.append(mod1.score(*data.valid()))\n",
    "    \n",
    "for i in min_samples_split:\n",
    "    mod2 = ExtraTreesClassifier(n_estimators=169,min_samples_split=i,max_features = 'sqrt',criterion = \"entropy\")\n",
    "    data = valid_data(num_train = 770, num_valid = 330, n_components = 8,columns = columns1)\n",
    "    mod2.fit(*data.train())\n",
    "    train_score2.append(mod2.score(*data.train()))\n",
    "    test_score2.append(mod2.score(*data.valid()))\n",
    "    \n",
    "plt.figure(figsize = (12,5))    \n",
    "plt.plot(n_estimators,train_score1, label='training accuracy')\n",
    "plt.plot(n_estimators,test_score1, label='test accuracy')\n",
    "plt.ylabel('Accuracy')\n",
    "plt.xlabel('n_estimators')\n",
    "plt.xticks(n_estimators)\n",
    "plt.legend();\n",
    "\n",
    "\n",
    "plt.figure(figsize = (12,5))    \n",
    "plt.plot(min_samples_split,train_score2, label='training accuracy')\n",
    "plt.plot(min_samples_split,test_score2, label='test accuracy')\n",
    "plt.ylabel('Accuracy')\n",
    "plt.xlabel('min_samples_split')\n",
    "plt.xticks(min_samples_split)\n",
    "plt.legend();"
   ]
  },
  {
   "cell_type": "markdown",
   "metadata": {},
   "source": [
    "Even though there might be a little overfitting, for the final model I decide these paramters (based on the graphs above):"
   ]
  },
  {
   "cell_type": "code",
   "execution_count": 19,
   "metadata": {},
   "outputs": [
    {
     "name": "stdout",
     "output_type": "stream",
     "text": [
      "Final validation score = 0.645455\n"
     ]
    }
   ],
   "source": [
    "data = valid_data(num_train = 770, num_valid = 330, seed = 30227, columns = columns1)\n",
    "    \n",
    "clf_final_1 = ExtraTreesClassifier(n_estimators=330,min_samples_split=2,criterion = \"entropy\")\n",
    "clf_final_1.fit(*data.train())\n",
    "train_score_f1 = clf_final_1.score(*data.train())\n",
    "test_score_f1 = clf_final_1.score(*data.valid())\n",
    "print(\"Final validation score = %g\" % (test_score_f1))"
   ]
  },
  {
   "cell_type": "markdown",
   "metadata": {},
   "source": [
    "Almost 65% , it's good."
   ]
  },
  {
   "cell_type": "markdown",
   "metadata": {},
   "source": [
    "## SVM"
   ]
  },
  {
   "cell_type": "markdown",
   "metadata": {},
   "source": [
    "The main parameter to tune is of course C, I also look for the best options among penalty, loss."
   ]
  },
  {
   "cell_type": "code",
   "execution_count": 20,
   "metadata": {},
   "outputs": [
    {
     "name": "stdout",
     "output_type": "stream",
     "text": [
      "Validation accuracy:  0.469696969697\n",
      "The best parameters are: {'multi_class': 'ovr', 'loss': 'squared_hinge', 'C': 6.6100000000000003}\n"
     ]
    }
   ],
   "source": [
    "data = valid_data(num_train = 770, num_valid = 330, seed = 30227,norm = True)\n",
    "\n",
    "\n",
    "param_distr ={'C' : list(np.arange(0.01,10,step = 0.1)), \n",
    "              'loss' : ['hinge','squared_hinge'],\n",
    "              'multi_class': ['ovr','crammer_singer']\n",
    "             }\n",
    "\n",
    "# create and fit a SVM model.\n",
    "n_search_iter = 20\n",
    "model = LinearSVC(penalty = 'l2')\n",
    "rCV = RandomizedSearchCV(model, param_distr, n_search_iter)\n",
    "rCV.fit(*data.train())\n",
    "\n",
    "rbest_params = rCV.best_params_\n",
    "rvalidation_accuracy = rCV.score(*data.valid())\n",
    "print('Validation accuracy: ', rvalidation_accuracy)\n",
    "print('The best parameters are:', rCV.best_params_)   "
   ]
  },
  {
   "cell_type": "markdown",
   "metadata": {},
   "source": [
    "Validation accuracy:  0.469696969697\n",
    "The best parameters are: {'multi_class': 'ovr', 'loss': 'squared_hinge', 'C': 6.6100000000000003}"
   ]
  },
  {
   "cell_type": "markdown",
   "metadata": {},
   "source": [
    "\"ovr\" trains n_classes one-vs-rest classifiers. I only tune C."
   ]
  },
  {
   "cell_type": "code",
   "execution_count": 21,
   "metadata": {},
   "outputs": [
    {
     "data": {
      "image/png": "[encoded data removed]",
      "text/plain": [
       "<matplotlib.figure.Figure at 0x2df978a6e48>"
      ]
     },
     "metadata": {},
     "output_type": "display_data"
    }
   ],
   "source": [
    "C=list(np.arange(1,7,step = 0.5))\n",
    "gamma = list(np.arange(0.01,1,step = 0.05))\n",
    "    \n",
    "test_score1 = []\n",
    "train_score1 = []\n",
    "\n",
    "for i in C:\n",
    "    mod1 = LinearSVC(C=i, loss = 'squared_hinge',multi_class = 'ovr')\n",
    "    data = valid_data(num_train = 770, num_valid = 330, norm = True)\n",
    "    mod1.fit(*data.train())\n",
    "    train_score1.append(mod1.score(*data.train()))\n",
    "    test_score1.append(mod1.score(*data.valid()))\n",
    "    \n",
    "\n",
    "    \n",
    "plt.figure(figsize = (12,5))    \n",
    "plt.plot(C,train_score1, label='training accuracy')\n",
    "plt.plot(C,test_score1, label='test accuracy')\n",
    "plt.ylabel('Accuracy')\n",
    "plt.xlabel('C')\n",
    "plt.xticks(C)\n",
    "plt.legend();\n"
   ]
  },
  {
   "cell_type": "code",
   "execution_count": 22,
   "metadata": {},
   "outputs": [
    {
     "name": "stdout",
     "output_type": "stream",
     "text": [
      "Final validation score = 0.430303\n"
     ]
    }
   ],
   "source": [
    "data = valid_data(num_train = 770, num_valid = 330, seed = 30227,norm = True)\n",
    "    \n",
    "clf_final_2 = LinearSVC(C=4.0, loss = 'squared_hinge',multi_class = 'ovr')\n",
    "clf.fit(*data.train())\n",
    "train_score_f2 = clf.score(*data.train())\n",
    "test_score_f2 = clf.score(*data.valid())\n",
    "print(\"Final validation score = %g\" % (test_score_f2))"
   ]
  },
  {
   "cell_type": "markdown",
   "metadata": {
    "collapsed": true
   },
   "source": [
    "# Conclusion"
   ]
  },
  {
   "cell_type": "code",
   "execution_count": null,
   "metadata": {},
   "outputs": [],
   "source": []
  },
  {
   "cell_type": "code",
   "execution_count": 23,
   "metadata": {},
   "outputs": [
    {
     "data": {
      "text/plain": [
       "0.6454545454545455"
      ]
     },
     "execution_count": 23,
     "metadata": {},
     "output_type": "execute_result"
    }
   ],
   "source": [
    "test_score_f1"
   ]
  },
  {
   "cell_type": "code",
   "execution_count": 24,
   "metadata": {},
   "outputs": [
    {
     "data": {
      "text/plain": [
       "0.4303030303030303"
      ]
     },
     "execution_count": 24,
     "metadata": {},
     "output_type": "execute_result"
    }
   ],
   "source": [
    "test_score_f2"
   ]
  },
  {
   "cell_type": "markdown",
   "metadata": {},
   "source": [
    "Random Forest performs much better than the Linear SVM. I know that the Random Forest can be better to handle noise in the data because of ensemble technique. The Linear SVM failed to reach an high accuracy score, this might be due to the fact that it uses linear kernel function and it might not be the best method to implement this dataset.\n",
    "\n",
    "In the end, the result achieved by RF is pretty good, that is the best model and it seems much faster than Linear SVM."
   ]
  }
 ],
 "metadata": {
  "kernelspec": {
   "display_name": "Python 3",
   "language": "python",
   "name": "python3"
  },
  "language_info": {
   "codemirror_mode": {
    "name": "ipython",
    "version": 3
   },
   "file_extension": ".py",
   "mimetype": "text/x-python",
   "name": "python",
   "nbconvert_exporter": "python",
   "pygments_lexer": "ipython3",
   "version": "3.6.3"
  }
 },
 "nbformat": 4,
 "nbformat_minor": 2
}
