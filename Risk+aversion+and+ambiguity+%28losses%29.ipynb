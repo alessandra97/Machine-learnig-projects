{
 "cells": [
  {
   "cell_type": "markdown",
   "metadata": {},
   "source": [
    "# 3.\tAnalysis of the outcomes of the experiment"
   ]
  },
  {
   "cell_type": "markdown",
   "metadata": {},
   "source": [
    "<br id = 'overview' \\br>\n",
    "##  Overview of the dataframe\n",
    "\n",
    "As first thing we import the libraries needed trough the notebook"
   ]
  },
  {
   "cell_type": "code",
   "execution_count": 1,
   "metadata": {
    "collapsed": true
   },
   "outputs": [],
   "source": [
    "import numpy as np\n",
    "import pandas as pd\n",
    "import matplotlib.pyplot as plt\n",
    "import seaborn as sns"
   ]
  },
  {
   "cell_type": "markdown",
   "metadata": {},
   "source": [
    "Import the csv output of the survey"
   ]
  },
  {
   "cell_type": "code",
   "execution_count": 2,
   "metadata": {
    "collapsed": true
   },
   "outputs": [],
   "source": [
    "df =  pd.read_csv('expcecon.csv')"
   ]
  },
  {
   "cell_type": "markdown",
   "metadata": {},
   "source": [
    "Let's see the shape of our dataset"
   ]
  },
  {
   "cell_type": "code",
   "execution_count": 3,
   "metadata": {},
   "outputs": [
    {
     "data": {
      "text/plain": [
       "(94, 3)"
      ]
     },
     "execution_count": 3,
     "metadata": {},
     "output_type": "execute_result"
    }
   ],
   "source": [
    "df.shape"
   ]
  },
  {
   "cell_type": "markdown",
   "metadata": {},
   "source": [
    "We have 96 observations and, as we can see below, we also have 3 columns indicating the answer to the questions: the first two are from the comparative condition and the last one is from the non-comparative condition.  "
   ]
  },
  {
   "cell_type": "code",
   "execution_count": 4,
   "metadata": {},
   "outputs": [
    {
     "data": {
      "text/html": [
       "<div>\n",
       "<style>\n",
       "    .dataframe thead tr:only-child th {\n",
       "        text-align: right;\n",
       "    }\n",
       "\n",
       "    .dataframe thead th {\n",
       "        text-align: left;\n",
       "    }\n",
       "\n",
       "    .dataframe tbody tr th {\n",
       "        vertical-align: top;\n",
       "    }\n",
       "</style>\n",
       "<table border=\"1\" class=\"dataframe\">\n",
       "  <thead>\n",
       "    <tr style=\"text-align: right;\">\n",
       "      <th></th>\n",
       "      <th>Q1</th>\n",
       "      <th>Q2</th>\n",
       "      <th>Q3</th>\n",
       "    </tr>\n",
       "  </thead>\n",
       "  <tbody>\n",
       "    <tr>\n",
       "      <th>0</th>\n",
       "      <td>60.0</td>\n",
       "      <td>45.0</td>\n",
       "      <td>NaN</td>\n",
       "    </tr>\n",
       "    <tr>\n",
       "      <th>1</th>\n",
       "      <td>NaN</td>\n",
       "      <td>NaN</td>\n",
       "      <td>20.0</td>\n",
       "    </tr>\n",
       "    <tr>\n",
       "      <th>2</th>\n",
       "      <td>59.0</td>\n",
       "      <td>30.0</td>\n",
       "      <td>NaN</td>\n",
       "    </tr>\n",
       "    <tr>\n",
       "      <th>3</th>\n",
       "      <td>NaN</td>\n",
       "      <td>NaN</td>\n",
       "      <td>20.0</td>\n",
       "    </tr>\n",
       "    <tr>\n",
       "      <th>4</th>\n",
       "      <td>NaN</td>\n",
       "      <td>NaN</td>\n",
       "      <td>10.0</td>\n",
       "    </tr>\n",
       "  </tbody>\n",
       "</table>\n",
       "</div>"
      ],
      "text/plain": [
       "     Q1    Q2    Q3\n",
       "0  60.0  45.0   NaN\n",
       "1   NaN   NaN  20.0\n",
       "2  59.0  30.0   NaN\n",
       "3   NaN   NaN  20.0\n",
       "4   NaN   NaN  10.0"
      ]
     },
     "execution_count": 4,
     "metadata": {},
     "output_type": "execute_result"
    }
   ],
   "source": [
    "df.head()"
   ]
  },
  {
   "cell_type": "markdown",
   "metadata": {},
   "source": [
    "### Data manipulation"
   ]
  },
  {
   "cell_type": "markdown",
   "metadata": {},
   "source": [
    "We can clearly observe that we have missing values, this is due to the fact that people who answered the first two questions did not answer the third one, we're going to modify the dataset so to make it easier to analyze."
   ]
  },
  {
   "cell_type": "markdown",
   "metadata": {},
   "source": [
    "We now add a column with a dummy variable to indicate whether the subject has participated to condition 0 (Comparative condition) o condition 1 (non-comparative condition)"
   ]
  },
  {
   "cell_type": "code",
   "execution_count": 5,
   "metadata": {
    "collapsed": true
   },
   "outputs": [],
   "source": [
    "df['Condition'] = 0"
   ]
  },
  {
   "cell_type": "code",
   "execution_count": 6,
   "metadata": {},
   "outputs": [
    {
     "name": "stderr",
     "output_type": "stream",
     "text": [
      "C:\\Users\\a_mon\\Anaconda3\\lib\\site-packages\\ipykernel_launcher.py:5: SettingWithCopyWarning: \n",
      "A value is trying to be set on a copy of a slice from a DataFrame\n",
      "\n",
      "See the caveats in the documentation: http://pandas.pydata.org/pandas-docs/stable/indexing.html#indexing-view-versus-copy\n",
      "  \"\"\"\n",
      "C:\\Users\\a_mon\\Anaconda3\\lib\\site-packages\\ipykernel_launcher.py:3: SettingWithCopyWarning: \n",
      "A value is trying to be set on a copy of a slice from a DataFrame\n",
      "\n",
      "See the caveats in the documentation: http://pandas.pydata.org/pandas-docs/stable/indexing.html#indexing-view-versus-copy\n",
      "  This is separate from the ipykernel package so we can avoid doing imports until\n"
     ]
    }
   ],
   "source": [
    "for i in range(df.shape[0]):\n",
    "    if df['Q1'].isnull()[i] == True:\n",
    "        df['Condition'][i] = 1\n",
    "    else: \n",
    "        df['Condition'][i] = 0"
   ]
  },
  {
   "cell_type": "code",
   "execution_count": 7,
   "metadata": {},
   "outputs": [
    {
     "data": {
      "text/html": [
       "<div>\n",
       "<style>\n",
       "    .dataframe thead tr:only-child th {\n",
       "        text-align: right;\n",
       "    }\n",
       "\n",
       "    .dataframe thead th {\n",
       "        text-align: left;\n",
       "    }\n",
       "\n",
       "    .dataframe tbody tr th {\n",
       "        vertical-align: top;\n",
       "    }\n",
       "</style>\n",
       "<table border=\"1\" class=\"dataframe\">\n",
       "  <thead>\n",
       "    <tr style=\"text-align: right;\">\n",
       "      <th></th>\n",
       "      <th>Q1</th>\n",
       "      <th>Q2</th>\n",
       "      <th>Q3</th>\n",
       "      <th>Condition</th>\n",
       "    </tr>\n",
       "  </thead>\n",
       "  <tbody>\n",
       "    <tr>\n",
       "      <th>0</th>\n",
       "      <td>60.0</td>\n",
       "      <td>45.0</td>\n",
       "      <td>NaN</td>\n",
       "      <td>0</td>\n",
       "    </tr>\n",
       "    <tr>\n",
       "      <th>1</th>\n",
       "      <td>NaN</td>\n",
       "      <td>NaN</td>\n",
       "      <td>20.0</td>\n",
       "      <td>1</td>\n",
       "    </tr>\n",
       "    <tr>\n",
       "      <th>2</th>\n",
       "      <td>59.0</td>\n",
       "      <td>30.0</td>\n",
       "      <td>NaN</td>\n",
       "      <td>0</td>\n",
       "    </tr>\n",
       "    <tr>\n",
       "      <th>3</th>\n",
       "      <td>NaN</td>\n",
       "      <td>NaN</td>\n",
       "      <td>20.0</td>\n",
       "      <td>1</td>\n",
       "    </tr>\n",
       "    <tr>\n",
       "      <th>4</th>\n",
       "      <td>NaN</td>\n",
       "      <td>NaN</td>\n",
       "      <td>10.0</td>\n",
       "      <td>1</td>\n",
       "    </tr>\n",
       "  </tbody>\n",
       "</table>\n",
       "</div>"
      ],
      "text/plain": [
       "     Q1    Q2    Q3  Condition\n",
       "0  60.0  45.0   NaN          0\n",
       "1   NaN   NaN  20.0          1\n",
       "2  59.0  30.0   NaN          0\n",
       "3   NaN   NaN  20.0          1\n",
       "4   NaN   NaN  10.0          1"
      ]
     },
     "execution_count": 7,
     "metadata": {},
     "output_type": "execute_result"
    }
   ],
   "source": [
    "df.head()"
   ]
  },
  {
   "cell_type": "markdown",
   "metadata": {},
   "source": [
    "### Data visualization"
   ]
  },
  {
   "cell_type": "markdown",
   "metadata": {},
   "source": [
    "We can now observe the distribution of the scores using a violin plot, which is more intuitive and more compact than a histogram"
   ]
  },
  {
   "cell_type": "code",
   "execution_count": 8,
   "metadata": {},
   "outputs": [
    {
     "data": {
      "image/png": "[encoded data removed]",
      "text/plain": [
       "<matplotlib.figure.Figure at 0x13af0069630>"
      ]
     },
     "metadata": {},
     "output_type": "display_data"
    }
   ],
   "source": [
    "plt.figure(figsize=(12, 5))\n",
    "# Draw a violinplot with a narrower bandwidth than the default\n",
    "ax = sns.violinplot(data=df[['Q1','Q2','Q3']], palette=\"Set3\",linewidth=1)\n",
    "sns.despine(left=True, bottom=True)\n",
    "ax.set_title('(figure 1)')\n",
    "plt.show()"
   ]
  },
  {
   "cell_type": "markdown",
   "metadata": {},
   "source": [
    "We observe that the distribution for Q1 is more concentrated on 50, which is natural as it is the expected value of the bet. For Q2 the mean is also on 50 (maybe it's a bit lower), but variance is higher, showing that people are less confident about their choices.   \n",
    "\n",
    "\n",
    "Q3 has a more interesting shape, this might be due to different preferences.\n",
    "Even though Q2 and Q3 are the answers to the same question, the fact that people are more convinced about Q2 might be due to anchoring problems (i.e. people might still think probabilities are near 50, and their answers depend on their risk preferences because what they probably did is adjust their expecatation about the probabilities, a bit lower or a bit higher than 50)"
   ]
  },
  {
   "cell_type": "markdown",
   "metadata": {},
   "source": [
    "<br id = 'Q1' \\br>\n",
    "#### Q1"
   ]
  },
  {
   "cell_type": "markdown",
   "metadata": {},
   "source": [
    "We now analyze the answers to the question Q1, i.e."
   ]
  },
  {
   "cell_type": "markdown",
   "metadata": {},
   "source": [
    "Suppose you have to pay a fee, but you have a second option. You can either play a game or pay the fee instead.\n",
    "There is an urn which contains a total of 100 balls: 50 white balls and 50 black balls. You can choose a color and pick one ball from the urn.\n",
    "If the color you choose comes out, you don't have to pay the fee, but you will have to pay €100 if you pick a ball of the other color.\n",
    "What is the maximum amount you are willing to pay the fee rather than playing this \"game\"?\n"
   ]
  },
  {
   "cell_type": "code",
   "execution_count": 9,
   "metadata": {},
   "outputs": [
    {
     "data": {
      "text/plain": [
       "count    47.000000\n",
       "mean     54.638298\n",
       "std      11.617875\n",
       "min      30.000000\n",
       "25%      50.000000\n",
       "50%      51.000000\n",
       "75%      60.000000\n",
       "max      80.000000\n",
       "Name: Q1, dtype: float64"
      ]
     },
     "execution_count": 9,
     "metadata": {},
     "output_type": "execute_result"
    }
   ],
   "source": [
    "df['Q1'].describe()"
   ]
  },
  {
   "cell_type": "markdown",
   "metadata": {},
   "source": [
    "<br id = 'Q2' \\br>\n",
    "#### Q2"
   ]
  },
  {
   "cell_type": "markdown",
   "metadata": {},
   "source": [
    "We now analyze the answers to the question Q2, i.e."
   ]
  },
  {
   "cell_type": "markdown",
   "metadata": {},
   "source": [
    "Now, the game is different: the urn still contains a total of 100 balls, but now a computer randomly chooses the number of white balls, the others are black. You can choose a color and pick one ball from the urn.\n",
    "If the color you choose comes out, you don't have to pay the fee, but you will have to pay €100 if you pick a ball of the other color.\n",
    "What is the maximum amount you are willing to pay the fee rather than playing this \"game\"?"
   ]
  },
  {
   "cell_type": "code",
   "execution_count": 10,
   "metadata": {},
   "outputs": [
    {
     "data": {
      "text/plain": [
       "count    47.000000\n",
       "mean     52.702128\n",
       "std      19.387260\n",
       "min      20.000000\n",
       "25%      40.000000\n",
       "50%      50.000000\n",
       "75%      68.000000\n",
       "max      90.000000\n",
       "Name: Q2, dtype: float64"
      ]
     },
     "execution_count": 10,
     "metadata": {},
     "output_type": "execute_result"
    }
   ],
   "source": [
    "df['Q2'].describe()"
   ]
  },
  {
   "cell_type": "markdown",
   "metadata": {},
   "source": [
    "<br id = 'Q3' \\br>\n",
    "#### Q3"
   ]
  },
  {
   "cell_type": "markdown",
   "metadata": {},
   "source": [
    "We now analyze the answers to the question Q3, i.e."
   ]
  },
  {
   "cell_type": "markdown",
   "metadata": {},
   "source": [
    "Suppose you have to pay a fee, but you have a second option. You can either play a game or pay the fee instead.\n",
    "There is an urn which contains a total of 100 balls: 50 white balls and 50 black balls. You can choose a color and pick one ball from the urn.\n",
    "If the color you choose comes out, you don't have to pay the fee, but you will have to pay €100 if you pick a ball of the other color.\n",
    "What is the maximum amount you are willing to pay the fee rather than playing this \"game\"?"
   ]
  },
  {
   "cell_type": "code",
   "execution_count": 11,
   "metadata": {},
   "outputs": [
    {
     "data": {
      "text/plain": [
       "count    47.000000\n",
       "mean     38.595745\n",
       "std      23.275906\n",
       "min       2.000000\n",
       "25%      20.000000\n",
       "50%      41.000000\n",
       "75%      50.000000\n",
       "max      80.000000\n",
       "Name: Q3, dtype: float64"
      ]
     },
     "execution_count": 11,
     "metadata": {},
     "output_type": "execute_result"
    }
   ],
   "source": [
    "df['Q3'].describe()"
   ]
  },
  {
   "cell_type": "code",
   "execution_count": 12,
   "metadata": {
    "collapsed": true
   },
   "outputs": [],
   "source": [
    "# replace nan in place\n",
    "dl = df.copy()\n",
    "a = (df['Q1'].isnull())\n",
    "values = df['Q3'].dropna()\n",
    "dl.loc[a, 'Q1'] = values\n",
    "#same"
   ]
  },
  {
   "cell_type": "markdown",
   "metadata": {},
   "source": [
    "<br id = 'Analyzing effects of risk aversion to preferences in ambiguity' \\br>\n",
    "#### Analyzing effects of risk aversion on preferences in ambiguity"
   ]
  },
  {
   "cell_type": "markdown",
   "metadata": {},
   "source": [
    "We can already observe that the mean for Q1 is only slightly higher than the mean of Q2, i.e. people answer to the question involving risky outcomes almost in the same way to the question with ambiguous outcomes, and this might be due to anchoring.\n",
    "\n",
    "More interestingly, people maintain their preferences in risk also for ambiguity.\n",
    "In fact, it seems that people who tend to be more risk averse, when they are faced with ambuiguous probabilities, for losses, seem to be less willing to take the risk to play the game of chance.\n",
    "\n",
    "However, we will see this more in detail:"
   ]
  },
  {
   "cell_type": "code",
   "execution_count": 13,
   "metadata": {},
   "outputs": [
    {
     "name": "stdout",
     "output_type": "stream",
     "text": [
      "individual 0 has answered 60.0 to the first answer and 45.0 to the second one\n",
      "individual 2 has answered 59.0 to the first answer and 30.0 to the second one\n",
      "individual 5 has answered 55.0 to the first answer and 35.0 to the second one\n",
      "individual 8 has answered 65.0 to the first answer and 80.0 to the second one\n",
      "individual 12 has answered 70.0 to the first answer and 30.0 to the second one\n",
      "individual 13 has answered 60.0 to the first answer and 55.0 to the second one\n",
      "individual 18 has answered 60.0 to the first answer and 75.0 to the second one\n",
      "individual 22 has answered 55.0 to the first answer and 40.0 to the second one\n",
      "individual 27 has answered 80.0 to the first answer and 90.0 to the second one\n",
      "individual 30 has answered 60.0 to the first answer and 40.0 to the second one\n",
      "individual 34 has answered 60.0 to the first answer and 90.0 to the second one\n",
      "individual 37 has answered 70.0 to the first answer and 50.0 to the second one\n",
      "individual 44 has answered 80.0 to the first answer and 50.0 to the second one\n",
      "individual 51 has answered 60.0 to the first answer and 60.0 to the second one\n",
      "individual 56 has answered 60.0 to the first answer and 60.0 to the second one\n",
      "individual 60 has answered 70.0 to the first answer and 90.0 to the second one\n",
      "individual 61 has answered 62.0 to the first answer and 42.0 to the second one\n",
      "individual 62 has answered 51.0 to the first answer and 75.0 to the second one\n",
      "individual 65 has answered 60.0 to the first answer and 75.0 to the second one\n",
      "individual 68 has answered 51.0 to the first answer and 60.0 to the second one\n",
      "individual 81 has answered 60.0 to the first answer and 80.0 to the second one\n",
      "individual 84 has answered 66.0 to the first answer and 40.0 to the second one\n",
      "individual 86 has answered 72.0 to the first answer and 30.0 to the second one\n",
      "individual 93 has answered 75.0 to the first answer and 80.0 to the second one\n",
      "the mean for Q2 for risk averse individuals is: 58.416666666666664,\n",
      "while the mean for Q2 the total subjects in the comparative settingis:52.702127659574465\n"
     ]
    }
   ],
   "source": [
    "higher_mean = []\n",
    "for i in range(df.shape[0]):\n",
    "    if df['Q1'].values[i]> 50:\n",
    "        higher_mean.append(df['Q2'].values[i])\n",
    "        print(f\"individual {i} has answered {df['Q1'].values[i]} to \"\n",
    "              +f\"the first answer and {df['Q2'].values[i]} to \"\n",
    "              +f\"the second one\")\n",
    "print(f\"the mean for Q2 for risk averse individuals is: \"\n",
    "      +f\"{np.sum(higher_mean)/np.size(higher_mean)},\")\n",
    "print(f\"while the mean for Q2 the total subjects in the comparative setting\" \n",
    "      +f\"is:{(df['Q2'].sum())/(df['Q2'].shape[0] - np.sum(df['Q2'].isnull()))}\")"
   ]
  },
  {
   "cell_type": "markdown",
   "metadata": {},
   "source": [
    "In the comparative settings, individuals who are more risk averse are also more ambuiguity averse as we can observe that the mean answer for the question involving ambiguous probabilities is higher for those who have given an answer higher than 50 for the question with known probabilities.  "
   ]
  },
  {
   "cell_type": "code",
   "execution_count": 14,
   "metadata": {},
   "outputs": [
    {
     "name": "stdout",
     "output_type": "stream",
     "text": [
      "individual 15 has answered 45.0 to the first answer and 40.0 to the second one\n",
      "individual 20 has answered 40.0 to the first answer and 25.0 to the second one\n",
      "individual 24 has answered 35.0 to the first answer and 20.0 to the second one\n",
      "individual 29 has answered 40.0 to the first answer and 51.0 to the second one\n",
      "individual 31 has answered 40.0 to the first answer and 30.0 to the second one\n",
      "individual 32 has answered 40.0 to the first answer and 40.0 to the second one\n",
      "individual 45 has answered 30.0 to the first answer and 20.0 to the second one\n",
      "individual 63 has answered 49.0 to the first answer and 49.0 to the second one\n",
      "individual 73 has answered 30.0 to the first answer and 30.0 to the second one\n",
      "individual 74 has answered 49.0 to the first answer and 66.0 to the second one\n",
      "individual 75 has answered 49.0 to the first answer and 75.0 to the second one\n",
      "the mean for Q2 for risk prone individuals is:40.54545454545455,\n",
      "while the mean for Q2 the total subjects in the comparative settingis:52.702127659574465\n"
     ]
    }
   ],
   "source": [
    "lower_mean = []\n",
    "for i in range(df.shape[0]):\n",
    "    if df['Q1'].values[i]< 50:\n",
    "        lower_mean.append(df['Q2'].values[i])\n",
    "        print(f\"individual {i} has answered {df['Q1'].values[i]} to \"\n",
    "              +f\"the first answer and {df['Q2'].values[i]} to \"\n",
    "              +f\"the second one\")\n",
    "print(f\"the mean for Q2 for risk prone individuals is:\" \n",
    "      +f\"{np.sum(lower_mean)/np.size(lower_mean)},\")\n",
    "print(f\"while the mean for Q2 the total subjects in the comparative setting\"\n",
    "      +f\"is:{(df['Q2'].sum())/(df['Q2'].shape[0] - np.sum(df['Q2'].isnull()))}\")"
   ]
  },
  {
   "cell_type": "markdown",
   "metadata": {},
   "source": [
    "In the comparative settings, individuals who are less risk averse are also less ambuiguity averse as we can observe that the mean answer for the question involving ambiguous probabilities is lower for those who have given an answer lower than 50 for the question with known probabilities.  "
   ]
  },
  {
   "cell_type": "code",
   "execution_count": 15,
   "metadata": {},
   "outputs": [
    {
     "name": "stdout",
     "output_type": "stream",
     "text": [
      "individual 9 has answered 50.0 to the first answer and 55.0 to the second one\n",
      "individual 16 has answered 50.0 to the first answer and 30.0 to the second one\n",
      "individual 25 has answered 50.0 to the first answer and 44.0 to the second one\n",
      "individual 40 has answered 50.0 to the first answer and 50.0 to the second one\n",
      "individual 46 has answered 50.0 to the first answer and 75.0 to the second one\n",
      "individual 47 has answered 50.0 to the first answer and 40.0 to the second one\n",
      "individual 50 has answered 50.0 to the first answer and 50.0 to the second one\n",
      "individual 54 has answered 50.0 to the first answer and 50.0 to the second one\n",
      "individual 58 has answered 50.0 to the first answer and 50.0 to the second one\n",
      "individual 70 has answered 50.0 to the first answer and 50.0 to the second one\n",
      "individual 72 has answered 50.0 to the first answer and 65.0 to the second one\n",
      "individual 89 has answered 50.0 to the first answer and 70.0 to the second one\n",
      "the mean for Q2 for risk indifferent individuals is:52.416666666666664\n",
      "the mean for Q2 the total subjects in the comparative setting is:52.702127659574465\n"
     ]
    }
   ],
   "source": [
    "ind_mean = []\n",
    "for i in range(df.shape[0]):\n",
    "    if df['Q1'].values[i]== 50:\n",
    "        ind_mean.append(df['Q2'].values[i])\n",
    "        print(f\"individual {i} has answered {df['Q1'].values[i]} to \"\n",
    "              +f\"the first answer and {df['Q2'].values[i]} to the\"\n",
    "              +f\" second one\")\n",
    "print(f\"the mean for Q2 for risk indifferent individuals is:\" \n",
    "      +f\"{np.sum(ind_mean)/np.size(ind_mean)},\")\n",
    "print(f\"while the mean for Q2 the total subjects in the comparative setting \"\n",
    "      +f\"is:{(df['Q2'].sum())/(df['Q2'].shape[0] - np.sum(df['Q2'].isnull()))}\")"
   ]
  },
  {
   "cell_type": "markdown",
   "metadata": {},
   "source": [
    "Most of those who have answered 50, gave a similar answer to Q2, they might have done that because of anchoring problems.   \n",
    "This might lead us to suspect than also other individuals have had the same problem, but we cannot say that for sure.\n",
    "It is also possible that they are risk indifferent and ambiguity prone/averse at the same time."
   ]
  },
  {
   "cell_type": "markdown",
   "metadata": {},
   "source": [
    "The mean for Q2 is even lower in non comparative settings. In that case, however, we have no way of knowing the risk preferences of the respondents."
   ]
  },
  {
   "cell_type": "markdown",
   "metadata": {},
   "source": [
    "#### Non-comparative setting"
   ]
  },
  {
   "cell_type": "code",
   "execution_count": 16,
   "metadata": {},
   "outputs": [
    {
     "data": {
      "image/png": "[encoded data removed]",
      "text/plain": [
       "<matplotlib.figure.Figure at 0x13af148b4a8>"
      ]
     },
     "metadata": {},
     "output_type": "display_data"
    }
   ],
   "source": [
    "ax = df['Q2'].hist(color='r',bins = 8)\n",
    "df['Q3'].hist(color='g',bins = 8)\n",
    "ax.set_ylabel(\"number of individuals\")\n",
    "\n",
    "ax.set_title('(figure 2)')\n",
    "plt.show()\n"
   ]
  },
  {
   "cell_type": "markdown",
   "metadata": {},
   "source": [
    "These two histograms represents the answer to the question involving ambiguous probabilities: the one in red represents the answers in the comparative setting, while the one in green represents the answers in the non-comparative setting.\n",
    "As we can observe, in the non-comparative setting, people tend to be more willing to participate in the \"lottery\", even thought there is still someone who has answered with values as high as 90."
   ]
  },
  {
   "cell_type": "code",
   "execution_count": null,
   "metadata": {
    "collapsed": true
   },
   "outputs": [],
   "source": []
  }
 ],
 "metadata": {
  "kernelspec": {
   "display_name": "Python 3",
   "language": "python",
   "name": "python3"
  },
  "language_info": {
   "codemirror_mode": {
    "name": "ipython",
    "version": 3
   },
   "file_extension": ".py",
   "mimetype": "text/x-python",
   "name": "python",
   "nbconvert_exporter": "python",
   "pygments_lexer": "ipython3",
   "version": "3.6.3"
  }
 },
 "nbformat": 4,
 "nbformat_minor": 2
}
